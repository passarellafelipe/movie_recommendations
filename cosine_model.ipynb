{
 "cells": [
  {
   "cell_type": "markdown",
   "id": "b1465de7",
   "metadata": {},
   "source": [
    "# Loading and cleaning the data"
   ]
  },
  {
   "cell_type": "markdown",
   "id": "e2839da7",
   "metadata": {},
   "source": [
    "We will use a smaller version of the [movielens](https://grouplens.org/datasets/movielens/) dataset. It contains data of movies rated by users, demographic data from these users and some information about the movies like release date and genre.\n",
    "\n",
    "Demographic data will not be used, the ratings will be binarized (0 if not watched or if given a rating lower than 2, 1 otherwise) and genre will be considered."
   ]
  },
  {
   "cell_type": "code",
   "execution_count": null,
   "id": "d3a94b74",
   "metadata": {},
   "outputs": [],
   "source": [
    "import pandas as pd\n",
    "import numpy as np\n",
    "\n",
    "from urllib.request import urlretrieve\n",
    "import zipfile\n",
    "\n",
    "from sklearn.metrics.pairwise import cosine_similarity\n",
    "from scipy import sparse"
   ]
  },
  {
   "cell_type": "code",
   "execution_count": null,
   "id": "ef3a6202",
   "metadata": {},
   "outputs": [],
   "source": [
    "#Download the dataset\n",
    "print('Downloading Dataset...')\n",
    "urlretrieve(\"http://files.grouplens.org/datasets/movielens/ml-100k.zip\", \"movielens.zip\")\n",
    "zip_ref = zipfile.ZipFile('movielens.zip', \"r\")\n",
    "zip_ref.extractall()\n",
    "print(\"Done. Dataset contains:\")\n",
    "print(zip_ref.read('ml-100k/u.info').decode('utf-8'))"
   ]
  },
  {
   "cell_type": "code",
   "execution_count": null,
   "id": "ed4843ac",
   "metadata": {},
   "outputs": [],
   "source": [
    "#Demographic data about users\n",
    "users_cols = ['user_id', 'age', 'sex', 'occupation', 'zip_code']\n",
    "users = pd.read_csv(\n",
    "    'ml-100k/u.user', sep='|', names=users_cols, encoding='latin-1')\n",
    "\n",
    "#User rated movies\n",
    "ratings_cols = ['user_id', 'movie_id', 'rating', 'unix_timestamp']\n",
    "ratings = pd.read_csv(\n",
    "    'ml-100k/u.data', sep='\\t', names=ratings_cols, encoding='latin-1')\n",
    "\n",
    "#Movies info\n",
    "genre_cols = [\n",
    "    \"genre_unknown\", \"Action\", \"Adventure\", \"Animation\", \"Children\", \"Comedy\",\n",
    "    \"Crime\", \"Documentary\", \"Drama\", \"Fantasy\", \"Film-Noir\", \"Horror\",\n",
    "    \"Musical\", \"Mystery\", \"Romance\", \"Sci-Fi\", \"Thriller\", \"War\", \"Western\"\n",
    "]\n",
    "movies_cols = [\n",
    "    'movie_id', 'title', 'release_date', \"video_release_date\", \"imdb_url\"\n",
    "] + genre_cols\n",
    "movies = pd.read_csv(\n",
    "    'ml-100k/u.item', sep='|', names=movies_cols, encoding='latin-1')"
   ]
  },
  {
   "cell_type": "code",
   "execution_count": null,
   "id": "cf5f3047",
   "metadata": {},
   "outputs": [],
   "source": [
    "users.head(5)"
   ]
  },
  {
   "cell_type": "code",
   "execution_count": null,
   "id": "940d7d3b",
   "metadata": {},
   "outputs": [],
   "source": [
    "ratings.head(5)"
   ]
  },
  {
   "cell_type": "code",
   "execution_count": null,
   "id": "a5cf8471",
   "metadata": {},
   "outputs": [],
   "source": [
    "movies.head(5)"
   ]
  },
  {
   "cell_type": "code",
   "execution_count": null,
   "id": "7213ec95",
   "metadata": {},
   "outputs": [],
   "source": [
    "#ids start at one, shift to zero\n",
    "users[\"user_id\"] = users[\"user_id\"].apply(lambda x: str(x-1))\n",
    "movies[\"movie_id\"] = movies[\"movie_id\"].apply(lambda x: str(x-1))\n",
    "movies[\"year\"] = movies['release_date'].apply(lambda x: str(x).split('-')[-1])\n",
    "ratings[\"movie_id\"] = ratings[\"movie_id\"].apply(lambda x: str(x-1))\n",
    "ratings[\"user_id\"] = ratings[\"user_id\"].apply(lambda x: str(x-1))\n",
    "ratings[\"rating\"] = ratings[\"rating\"].apply(lambda x: float(x))"
   ]
  },
  {
   "cell_type": "code",
   "execution_count": null,
   "id": "6b8c80ba",
   "metadata": {},
   "outputs": [],
   "source": [
    "movielens = ratings.merge(movies, on='movie_id').merge(users, on='user_id')"
   ]
  },
  {
   "cell_type": "code",
   "execution_count": null,
   "id": "e8cfbfa2",
   "metadata": {},
   "outputs": [],
   "source": [
    "movielens.head()"
   ]
  },
  {
   "cell_type": "code",
   "execution_count": null,
   "id": "ff9ac9f8",
   "metadata": {},
   "outputs": [],
   "source": [
    "#select only the relevant columns for our model\n",
    "relevant_cols = ['user_id', 'movie_id', 'rating'] + genre_cols\n",
    "df = movielens[relevant_cols]"
   ]
  },
  {
   "cell_type": "code",
   "execution_count": null,
   "id": "0bdc963f",
   "metadata": {},
   "outputs": [],
   "source": [
    "df.sample(5)"
   ]
  },
  {
   "cell_type": "code",
   "execution_count": null,
   "id": "b2bf2b92",
   "metadata": {},
   "outputs": [],
   "source": [
    "#binarize the ratings\n",
    "df.loc[:, 'rating'] = df['rating'].apply(lambda x: 0 if x <=2 else 1)"
   ]
  },
  {
   "cell_type": "code",
   "execution_count": null,
   "id": "86384fe6",
   "metadata": {},
   "outputs": [],
   "source": [
    "df.head(5)"
   ]
  },
  {
   "cell_type": "code",
   "execution_count": null,
   "id": "6947d778",
   "metadata": {},
   "outputs": [],
   "source": [
    "df.describe(include=[np.object])"
   ]
  },
  {
   "cell_type": "code",
   "execution_count": null,
   "id": "e2b0f831",
   "metadata": {},
   "outputs": [],
   "source": [
    "#discard zero values (they'll be reintroduced when we store the values in a one-hot encode matrix)\n",
    "df = df[df['rating'] == 1]"
   ]
  },
  {
   "cell_type": "code",
   "execution_count": null,
   "id": "e259ce4e",
   "metadata": {},
   "outputs": [],
   "source": [
    "df.describe(include=[np.object])"
   ]
  },
  {
   "cell_type": "code",
   "execution_count": null,
   "id": "a5347e0b",
   "metadata": {},
   "outputs": [],
   "source": [
    "df"
   ]
  },
  {
   "cell_type": "markdown",
   "id": "926dfbe1",
   "metadata": {},
   "source": [
    "# One-hot encode, normalize and calculate similarities"
   ]
  },
  {
   "cell_type": "code",
   "execution_count": null,
   "id": "4a9ebecc",
   "metadata": {},
   "outputs": [],
   "source": [
    "matrix1 = df.drop(genre_cols, axis=1).groupby(['movie_id', 'user_id']).size().unstack().fillna(0)\n",
    "matrix2 = df.drop(['user_id'], axis=1).groupby('movie_id').first()"
   ]
  },
  {
   "cell_type": "code",
   "execution_count": null,
   "id": "83fc5aae",
   "metadata": {},
   "outputs": [],
   "source": [
    "matrix = pd.concat([matrix1, matrix2], axis=1)\n",
    "\n",
    "matrix.index.name = None"
   ]
  },
  {
   "cell_type": "code",
   "execution_count": null,
   "id": "0c21e545",
   "metadata": {},
   "outputs": [],
   "source": [
    "matrix"
   ]
  },
  {
   "cell_type": "code",
   "execution_count": null,
   "id": "39de73b5",
   "metadata": {},
   "outputs": [],
   "source": [
    "magnitude = np.sqrt(np.square(matrix).sum(axis=1))"
   ]
  },
  {
   "cell_type": "code",
   "execution_count": null,
   "id": "35148bcf",
   "metadata": {},
   "outputs": [],
   "source": [
    "matrix = matrix.divide(magnitude, axis=0)"
   ]
  },
  {
   "cell_type": "code",
   "execution_count": null,
   "id": "8f1c5551",
   "metadata": {},
   "outputs": [],
   "source": [
    "def calculate_similarity(matrix):\n",
    "    data_sparse = sparse.csr_matrix(matrix)\n",
    "    similarities = cosine_similarity(data_sparse)\n",
    "    sim = pd.DataFrame(data=similarities, index=matrix.index.values, columns=matrix.index.values)\n",
    "    return sim\n",
    "\n",
    "def translate_sim(s_matrix):\n",
    "    results = []\n",
    "    for item in s_matrix.iteritems():\n",
    "        idx = item[0]\n",
    "        movie = movies[movies['movie_id'].astype(str) == idx]['title'].to_list()[0]\n",
    "        results.append((movie, item[1]))\n",
    "    return results"
   ]
  },
  {
   "cell_type": "code",
   "execution_count": null,
   "id": "d6f49e37",
   "metadata": {},
   "outputs": [],
   "source": [
    "sim_matrix = calculate_similarity(matrix)"
   ]
  },
  {
   "cell_type": "code",
   "execution_count": null,
   "id": "2b5daefb",
   "metadata": {},
   "outputs": [],
   "source": [
    "translate_sim(sim_matrix.loc['1'].nlargest(10))"
   ]
  },
  {
   "cell_type": "code",
   "execution_count": null,
   "id": "5a36b9b1",
   "metadata": {},
   "outputs": [],
   "source": [
    "#sample a random movie id and see for yourself\n",
    "item_id = movies.sample(1)['movie_id'].to_list()[0]\n",
    "r = translate_sim(sim_matrix.loc[item_id].nlargest(10))\n",
    "r"
   ]
  },
  {
   "cell_type": "markdown",
   "id": "276e077f",
   "metadata": {},
   "source": [
    "# Conclusion"
   ]
  },
  {
   "cell_type": "markdown",
   "id": "6e49126c",
   "metadata": {},
   "source": [
    "This is one of the simplest methods one can use to find similarities with colaborative filtering. We decided to include the genres as a means to input more information about how the movies should be aggregated. Some of the recommendations doesn't make any sense, could be because we simplified the ratings, used just a percentage of the dataset, the are not enough users or because of the not very much sophisticated model based on just cosine similarities.\n",
    "\n",
    "There are lots of models which use machine learning and perform way better. We are using this one to introduce some key concepts like vectorization, one-hot encoding, cosine distance, etc."
   ]
  },
  {
   "cell_type": "code",
   "execution_count": null,
   "id": "7dd13887",
   "metadata": {},
   "outputs": [],
   "source": []
  }
 ],
 "metadata": {
  "kernelspec": {
   "display_name": "Python 3",
   "language": "python",
   "name": "python3"
  },
  "language_info": {
   "codemirror_mode": {
    "name": "ipython",
    "version": 3
   },
   "file_extension": ".py",
   "mimetype": "text/x-python",
   "name": "python",
   "nbconvert_exporter": "python",
   "pygments_lexer": "ipython3",
   "version": "3.6.13"
  }
 },
 "nbformat": 4,
 "nbformat_minor": 5
}
